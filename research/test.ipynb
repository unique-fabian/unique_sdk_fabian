{
 "cells": [
  {
   "cell_type": "code",
   "execution_count": null,
   "metadata": {},
   "outputs": [],
   "source": [
    "import unique_sdk\n",
    "from dotenv import load_dotenv\n",
    "import os\n",
    "\n",
    "load_dotenv()\n",
    "unique_sdk.api_key = os.getenv(\"API_KEY\")\n",
    "unique_sdk.app_id = os.getenv(\"APP_ID\")\n",
    "unique_sdk.api_base = os.getenv(\"API_BASE\")\n",
    "company_id = unique_sdk.company_id = os.getenv(\"COMPANY_ID\")\n",
    "\n",
    "chat_completion = unique_sdk.ChatCompletion.create(\n",
    "    company_id=company_id,\n",
    "    model=\"AZURE_GPT_35_TURBO\",\n",
    "    messages=[\n",
    "        {\"role\": \"system\", \"content\": \"You are a helpful assistant.\"},\n",
    "        {\"role\": \"user\", \"content\": \"Write 2 sentences about the weather in Paris.\"},\n",
    "    ]\n",
    ")\n",
    "chat_completion[\"choices\"][0][\"message\"][\"content\"]"
   ]
  }
 ],
 "metadata": {
  "kernelspec": {
   "display_name": "Python 3",
   "language": "python",
   "name": "python3"
  },
  "language_info": {
   "codemirror_mode": {
    "name": "ipython",
    "version": 3
   },
   "file_extension": ".py",
   "mimetype": "text/x-python",
   "name": "python",
   "nbconvert_exporter": "python",
   "pygments_lexer": "ipython3",
   "version": "3.12.1"
  }
 },
 "nbformat": 4,
 "nbformat_minor": 2
}
